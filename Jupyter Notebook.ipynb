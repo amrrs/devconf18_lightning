{
 "cells": [
  {
   "cell_type": "markdown",
   "metadata": {},
   "source": [
    "# This is a Jupyter Notebook\n",
    "\n",
    "## You can write your code here "
   ]
  },
  {
   "cell_type": "code",
   "execution_count": 1,
   "metadata": {
    "scrolled": true
   },
   "outputs": [
    {
     "data": {
      "text/plain": [
       "['Welcome to Jupyter',\n",
       " 'Welcome to Jupyter',\n",
       " 'Welcome to Jupyter',\n",
       " 'Welcome to Jupyter',\n",
       " 'Welcome to Jupyter',\n",
       " 'Welcome to Jupyter',\n",
       " 'Welcome to Jupyter',\n",
       " 'Welcome to Jupyter',\n",
       " 'Welcome to Jupyter']"
      ]
     },
     "execution_count": 1,
     "metadata": {},
     "output_type": "execute_result"
    }
   ],
   "source": [
    "[\"Welcome to Jupyter\" for x in range(1,10)]"
   ]
  },
  {
   "cell_type": "markdown",
   "metadata": {},
   "source": [
    "## You can also display a plot here"
   ]
  },
  {
   "cell_type": "code",
   "execution_count": 6,
   "metadata": {},
   "outputs": [
    {
     "data": {
      "image/png": "[encoded data removed]",
      "text/plain": [
       "<Figure size 432x288 with 1 Axes>"
      ]
     },
     "metadata": {},
     "output_type": "display_data"
    }
   ],
   "source": [
    "import matplotlib.pyplot as plt\n",
    "import seaborn as sns\n",
    "import pandas as pd\n",
    "\n",
    "data = pd.DataFrame({'col1': range(1,100), 'col2': range(1,100)})\n",
    "\n",
    "data.head()\n",
    "\n",
    "sns.scatterplot(x = 'col1', y = 'col2', data = data);"
   ]
  },
  {
   "cell_type": "markdown",
   "metadata": {},
   "source": [
    "## You can add Markdown to explain the code and Visualization:\n",
    "\n",
    "**The Jupyter Notebook** is an *open-source web application* that allows you to create and share documents that contain live code, equations, visualizations and narrative text. \n",
    "\n",
    "**Uses include:**\n",
    "\n",
    "* data cleaning and transformation\n",
    "* numerical simulation\n",
    "* statistical modeling \n",
    "* data visualization\n",
    "* machine learning\n"
   ]
  },
  {
   "cell_type": "markdown",
   "metadata": {},
   "source": [
    "## Jupyter Notebook is all about Sharing\n",
    "\n",
    "* Notebook (itself)\n",
    "* PDF\n",
    "* HTML"
   ]
  },
  {
   "cell_type": "markdown",
   "metadata": {},
   "source": [
    "## Finally, Deploy it for someone else to play with it"
   ]
  },
  {
   "cell_type": "markdown",
   "metadata": {},
   "source": [
    "![binder_logo](binder_logo.png)\n",
    "\n",
    "![binder_screenshot](binder_screenshot.png)"
   ]
  },
  {
   "cell_type": "markdown",
   "metadata": {},
   "source": [
    "# Wait, Did you think Jupyter is only about Python?\n",
    "\n",
    "## Sorry to disappoint you\n",
    "\n",
    "![jupyter_kernels](jupyter_kernels.jpg)"
   ]
  }
 ],
 "metadata": {
  "kernelspec": {
   "display_name": "Python 3",
   "language": "python",
   "name": "python3"
  },
  "language_info": {
   "codemirror_mode": {
    "name": "ipython",
    "version": 3
   },
   "file_extension": ".py",
   "mimetype": "text/x-python",
   "name": "python",
   "nbconvert_exporter": "python",
   "pygments_lexer": "ipython3",
   "version": "3.6.5"
  }
 },
 "nbformat": 4,
 "nbformat_minor": 2
}
